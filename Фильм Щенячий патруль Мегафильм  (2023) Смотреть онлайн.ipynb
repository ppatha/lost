{
  "nbformat": 4,
  "nbformat_minor": 0,
  "metadata": {
    "colab": {
      "provenance": [],
      "authorship_tag": "ABX9TyMCu4y0WOeLMdzY9Xz7xC0c",
      "include_colab_link": true
    },
    "kernelspec": {
      "name": "python3",
      "display_name": "Python 3"
    },
    "language_info": {
      "name": "python"
    }
  },
  "cells": [
    {
      "cell_type": "markdown",
      "metadata": {
        "id": "view-in-github",
        "colab_type": "text"
      },
      "source": [
        "<a href=\"https://colab.research.google.com/github/ppatha/lost/blob/main/%D0%A4%D0%B8%D0%BB%D1%8C%D0%BC%20%D0%A9%D0%B5%D0%BD%D1%8F%D1%87%D0%B8%D0%B9%20%D0%BF%D0%B0%D1%82%D1%80%D1%83%D0%BB%D1%8C%20%D0%9C%D0%B5%D0%B3%D0%B0%D1%84%D0%B8%D0%BB%D1%8C%D0%BC%20%20(2023)%20%D0%A1%D0%BC%D0%BE%D1%82%D1%80%D0%B5%D1%82%D1%8C%20%D0%BE%D0%BD%D0%BB%D0%B0%D0%B9%D0%BD.ipynb\" target=\"_parent\"><img src=\"https://colab.research.google.com/assets/colab-badge.svg\" alt=\"Open In Colab\"/></a>"
      ]
    },
    {
      "cell_type": "code",
      "execution_count": null,
      "metadata": {
        "id": "PrzTRdRTbLMH"
      },
      "outputs": [],
      "source": []
    },
    {
      "cell_type": "markdown",
      "source": [
        "Фильм Щенячий патруль Мегафильм  (2023) Смотреть онлайн\n",
        "<p><a href=\"https://afcdy.9ee3.shop/l/bNvfUVS2GAv\" target=\"_blank\" rel=\"noopener noreferrer\"><img src=\"https://i.imgur.com/2skYgg1.gif?top-gun-maverick\" alt=\"Ver ONE PIECE FILM RED Online\" /></a></p>\n",
        "<p>&nbsp;</p>"
      ],
      "metadata": {
        "id": "2E8_WMPFbZeO"
      }
    }
  ]
}